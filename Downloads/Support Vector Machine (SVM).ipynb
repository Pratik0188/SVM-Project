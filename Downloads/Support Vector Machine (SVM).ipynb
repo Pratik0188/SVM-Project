{
 "cells": [
  {
   "cell_type": "code",
   "execution_count": 5,
   "id": "3eab0591",
   "metadata": {
    "scrolled": true
   },
   "outputs": [
    {
     "data": {
      "text/plain": [
       "'\\n1. Necessary Imports\\n2. About the Cancer Data\\n3. Load Data from the CSV file.\\n4. Distribution of classes\\n6. Selection of unwanted columns\\n7. Remove unwanted columns\\n8. Divide the data as Train/Test dataset.\\n9. Modeling (SVM with scikit-learn)\\n10. Evaluation(results)\\n'"
      ]
     },
     "execution_count": 5,
     "metadata": {},
     "output_type": "execute_result"
    }
   ],
   "source": [
    "'''\n",
    "1. Introduction as SVM\n",
    "\n",
    "   We will use SVM to build and train a model using human cell records , and classify cells to whether the samples \n",
    "   are beningn (mild state) or malignant(evil state).\n",
    "   \n",
    "   SVM works by mapping data to a high dimensional feature space so that data points can be categorized, even when\n",
    "   the data are not otherwise linearly seperable (This gets done by the kernel function of the SVM classifer). \n",
    "   A seperator between the categories is found, then the data is transformed in such as way that the seperator could\n",
    "   be drawn as a hyperplane.\n",
    "\n",
    "2. Necessary Imports\n",
    "   \n",
    "   import pandas as pd\n",
    "   import numpy as np\n",
    "   import matplotlib.pyplot as plt\n",
    "\n",
    "3. About the Cancer Data\n",
    "   \n",
    "   Each record contains the values of a set of cell characterstics. The fields in each records are: \n",
    "    \n",
    "   Field Name                Description\n",
    "   ID:                       Clump Thickness\n",
    "   Clump:                    Clump Thickness\n",
    "   UnifSize:                 Uniformity of Cell size\n",
    "   UnifShape:                Uniformity of cell shape\n",
    "   MargAdh:                  Marginal adhesion\n",
    "   SingEpiSize:              Single spithelial cell size\n",
    "   BareNuc:                  Bare nuclei\n",
    "   BlandChrom:               Bland Chromatin\n",
    "   NormNucl:                 Normal Nucleoli\n",
    "   Mit:                      Mitoses\n",
    "   Class:                    Benign or malignant\n",
    "   \n",
    "   #row = record\n",
    "   #column = attribute/dimension\n",
    "   #target = prediction\n",
    "\n",
    "4. Load Data from the CSV file.\n",
    "   \n",
    "   pd.read_csv(\"\")\n",
    "   read_csv is available in the pandas library.\n",
    "    \n",
    "5. Distribution of classes\n",
    "\n",
    "   In order to plot a scatter graph, we need 2 values. 1 to be plotted along x-axis and 1 along y-axis.\n",
    "   Lets choose any 2 values from the dataset. Here we choose, clump and uniformity of cellsize.\n",
    "   \n",
    "   Out of the cell dataframe, we will choose those rows that belong to malignant class only.\n",
    "   \n",
    "    \n",
    "6. Selection of unwanted columns\n",
    "7. Remove unwanted columns\n",
    "8. Divide the data as Train/Test dataset.\n",
    "9. Modeling (SVM with scikit-learn)\n",
    "10. Evaluation(results)\n",
    "'''"
   ]
  },
  {
   "cell_type": "code",
   "execution_count": 8,
   "id": "5c637eb1",
   "metadata": {},
   "outputs": [],
   "source": [
    "import numpy as np\n",
    "import pandas as pd\n",
    "import matplotlib.pyplot as plt"
   ]
  },
  {
   "cell_type": "code",
   "execution_count": 12,
   "id": "313f7a79",
   "metadata": {},
   "outputs": [
    {
     "data": {
      "text/html": [
       "<div>\n",
       "<style scoped>\n",
       "    .dataframe tbody tr th:only-of-type {\n",
       "        vertical-align: middle;\n",
       "    }\n",
       "\n",
       "    .dataframe tbody tr th {\n",
       "        vertical-align: top;\n",
       "    }\n",
       "\n",
       "    .dataframe thead th {\n",
       "        text-align: right;\n",
       "    }\n",
       "</style>\n",
       "<table border=\"1\" class=\"dataframe\">\n",
       "  <thead>\n",
       "    <tr style=\"text-align: right;\">\n",
       "      <th></th>\n",
       "      <th>ID</th>\n",
       "      <th>Clump</th>\n",
       "      <th>UnifSize</th>\n",
       "      <th>UnifShape</th>\n",
       "      <th>MargAdh</th>\n",
       "      <th>SingEpiSize</th>\n",
       "      <th>BareNuc</th>\n",
       "      <th>BlandChrom</th>\n",
       "      <th>NormNucl</th>\n",
       "      <th>Mit</th>\n",
       "      <th>Class</th>\n",
       "    </tr>\n",
       "  </thead>\n",
       "  <tbody>\n",
       "    <tr>\n",
       "      <th>0</th>\n",
       "      <td>1000025</td>\n",
       "      <td>5</td>\n",
       "      <td>1</td>\n",
       "      <td>1</td>\n",
       "      <td>1</td>\n",
       "      <td>2</td>\n",
       "      <td>1</td>\n",
       "      <td>3</td>\n",
       "      <td>1</td>\n",
       "      <td>1</td>\n",
       "      <td>2</td>\n",
       "    </tr>\n",
       "    <tr>\n",
       "      <th>1</th>\n",
       "      <td>1002945</td>\n",
       "      <td>5</td>\n",
       "      <td>4</td>\n",
       "      <td>4</td>\n",
       "      <td>5</td>\n",
       "      <td>7</td>\n",
       "      <td>10</td>\n",
       "      <td>3</td>\n",
       "      <td>2</td>\n",
       "      <td>1</td>\n",
       "      <td>2</td>\n",
       "    </tr>\n",
       "    <tr>\n",
       "      <th>2</th>\n",
       "      <td>1015425</td>\n",
       "      <td>3</td>\n",
       "      <td>1</td>\n",
       "      <td>1</td>\n",
       "      <td>1</td>\n",
       "      <td>2</td>\n",
       "      <td>2</td>\n",
       "      <td>3</td>\n",
       "      <td>1</td>\n",
       "      <td>1</td>\n",
       "      <td>2</td>\n",
       "    </tr>\n",
       "    <tr>\n",
       "      <th>3</th>\n",
       "      <td>1016277</td>\n",
       "      <td>6</td>\n",
       "      <td>8</td>\n",
       "      <td>8</td>\n",
       "      <td>1</td>\n",
       "      <td>3</td>\n",
       "      <td>4</td>\n",
       "      <td>3</td>\n",
       "      <td>7</td>\n",
       "      <td>1</td>\n",
       "      <td>2</td>\n",
       "    </tr>\n",
       "    <tr>\n",
       "      <th>4</th>\n",
       "      <td>1017023</td>\n",
       "      <td>4</td>\n",
       "      <td>1</td>\n",
       "      <td>1</td>\n",
       "      <td>3</td>\n",
       "      <td>2</td>\n",
       "      <td>1</td>\n",
       "      <td>3</td>\n",
       "      <td>1</td>\n",
       "      <td>1</td>\n",
       "      <td>2</td>\n",
       "    </tr>\n",
       "    <tr>\n",
       "      <th>...</th>\n",
       "      <td>...</td>\n",
       "      <td>...</td>\n",
       "      <td>...</td>\n",
       "      <td>...</td>\n",
       "      <td>...</td>\n",
       "      <td>...</td>\n",
       "      <td>...</td>\n",
       "      <td>...</td>\n",
       "      <td>...</td>\n",
       "      <td>...</td>\n",
       "      <td>...</td>\n",
       "    </tr>\n",
       "    <tr>\n",
       "      <th>694</th>\n",
       "      <td>776715</td>\n",
       "      <td>3</td>\n",
       "      <td>1</td>\n",
       "      <td>1</td>\n",
       "      <td>1</td>\n",
       "      <td>3</td>\n",
       "      <td>2</td>\n",
       "      <td>1</td>\n",
       "      <td>1</td>\n",
       "      <td>1</td>\n",
       "      <td>2</td>\n",
       "    </tr>\n",
       "    <tr>\n",
       "      <th>695</th>\n",
       "      <td>841769</td>\n",
       "      <td>2</td>\n",
       "      <td>1</td>\n",
       "      <td>1</td>\n",
       "      <td>1</td>\n",
       "      <td>2</td>\n",
       "      <td>1</td>\n",
       "      <td>1</td>\n",
       "      <td>1</td>\n",
       "      <td>1</td>\n",
       "      <td>2</td>\n",
       "    </tr>\n",
       "    <tr>\n",
       "      <th>696</th>\n",
       "      <td>888820</td>\n",
       "      <td>5</td>\n",
       "      <td>10</td>\n",
       "      <td>10</td>\n",
       "      <td>3</td>\n",
       "      <td>7</td>\n",
       "      <td>3</td>\n",
       "      <td>8</td>\n",
       "      <td>10</td>\n",
       "      <td>2</td>\n",
       "      <td>4</td>\n",
       "    </tr>\n",
       "    <tr>\n",
       "      <th>697</th>\n",
       "      <td>897471</td>\n",
       "      <td>4</td>\n",
       "      <td>8</td>\n",
       "      <td>6</td>\n",
       "      <td>4</td>\n",
       "      <td>3</td>\n",
       "      <td>4</td>\n",
       "      <td>10</td>\n",
       "      <td>6</td>\n",
       "      <td>1</td>\n",
       "      <td>4</td>\n",
       "    </tr>\n",
       "    <tr>\n",
       "      <th>698</th>\n",
       "      <td>897471</td>\n",
       "      <td>4</td>\n",
       "      <td>8</td>\n",
       "      <td>8</td>\n",
       "      <td>5</td>\n",
       "      <td>4</td>\n",
       "      <td>5</td>\n",
       "      <td>10</td>\n",
       "      <td>4</td>\n",
       "      <td>1</td>\n",
       "      <td>4</td>\n",
       "    </tr>\n",
       "  </tbody>\n",
       "</table>\n",
       "<p>699 rows × 11 columns</p>\n",
       "</div>"
      ],
      "text/plain": [
       "          ID  Clump  UnifSize  UnifShape  MargAdh  SingEpiSize BareNuc  \\\n",
       "0    1000025      5         1          1        1            2       1   \n",
       "1    1002945      5         4          4        5            7      10   \n",
       "2    1015425      3         1          1        1            2       2   \n",
       "3    1016277      6         8          8        1            3       4   \n",
       "4    1017023      4         1          1        3            2       1   \n",
       "..       ...    ...       ...        ...      ...          ...     ...   \n",
       "694   776715      3         1          1        1            3       2   \n",
       "695   841769      2         1          1        1            2       1   \n",
       "696   888820      5        10         10        3            7       3   \n",
       "697   897471      4         8          6        4            3       4   \n",
       "698   897471      4         8          8        5            4       5   \n",
       "\n",
       "     BlandChrom  NormNucl  Mit  Class  \n",
       "0             3         1    1      2  \n",
       "1             3         2    1      2  \n",
       "2             3         1    1      2  \n",
       "3             3         7    1      2  \n",
       "4             3         1    1      2  \n",
       "..          ...       ...  ...    ...  \n",
       "694           1         1    1      2  \n",
       "695           1         1    1      2  \n",
       "696           8        10    2      4  \n",
       "697          10         6    1      4  \n",
       "698          10         4    1      4  \n",
       "\n",
       "[699 rows x 11 columns]"
      ]
     },
     "execution_count": 12,
     "metadata": {},
     "output_type": "execute_result"
    }
   ],
   "source": [
    "cell_df=pd.read_csv(\"https://cf-courses-data.s3.us.cloud-object-storage.appdomain.cloud/IBMDeveloperSkillsNetwork-ML0101EN-SkillsNetwork/labs/Module%203/data/cell_samples.csv\")\n",
    "cell_df"
   ]
  },
  {
   "cell_type": "code",
   "execution_count": 14,
   "id": "a5bab768",
   "metadata": {},
   "outputs": [
    {
     "data": {
      "text/plain": [
       "(699, 11)"
      ]
     },
     "execution_count": 14,
     "metadata": {},
     "output_type": "execute_result"
    }
   ],
   "source": [
    "cell_df.shape"
   ]
  },
  {
   "cell_type": "code",
   "execution_count": 15,
   "id": "49d339c8",
   "metadata": {},
   "outputs": [
    {
     "data": {
      "text/plain": [
       "<bound method NDFrame.head of           ID  Clump  UnifSize  UnifShape  MargAdh  SingEpiSize BareNuc  \\\n",
       "0    1000025      5         1          1        1            2       1   \n",
       "1    1002945      5         4          4        5            7      10   \n",
       "2    1015425      3         1          1        1            2       2   \n",
       "3    1016277      6         8          8        1            3       4   \n",
       "4    1017023      4         1          1        3            2       1   \n",
       "..       ...    ...       ...        ...      ...          ...     ...   \n",
       "694   776715      3         1          1        1            3       2   \n",
       "695   841769      2         1          1        1            2       1   \n",
       "696   888820      5        10         10        3            7       3   \n",
       "697   897471      4         8          6        4            3       4   \n",
       "698   897471      4         8          8        5            4       5   \n",
       "\n",
       "     BlandChrom  NormNucl  Mit  Class  \n",
       "0             3         1    1      2  \n",
       "1             3         2    1      2  \n",
       "2             3         1    1      2  \n",
       "3             3         7    1      2  \n",
       "4             3         1    1      2  \n",
       "..          ...       ...  ...    ...  \n",
       "694           1         1    1      2  \n",
       "695           1         1    1      2  \n",
       "696           8        10    2      4  \n",
       "697          10         6    1      4  \n",
       "698          10         4    1      4  \n",
       "\n",
       "[699 rows x 11 columns]>"
      ]
     },
     "execution_count": 15,
     "metadata": {},
     "output_type": "execute_result"
    }
   ],
   "source": [
    "cell_df.head"
   ]
  },
  {
   "cell_type": "code",
   "execution_count": 16,
   "id": "e68f7514",
   "metadata": {},
   "outputs": [
    {
     "data": {
      "text/plain": [
       "ID             699\n",
       "Clump          699\n",
       "UnifSize       699\n",
       "UnifShape      699\n",
       "MargAdh        699\n",
       "SingEpiSize    699\n",
       "BareNuc        699\n",
       "BlandChrom     699\n",
       "NormNucl       699\n",
       "Mit            699\n",
       "Class          699\n",
       "dtype: int64"
      ]
     },
     "execution_count": 16,
     "metadata": {},
     "output_type": "execute_result"
    }
   ],
   "source": [
    "cell_df.count()"
   ]
  },
  {
   "cell_type": "code",
   "execution_count": 17,
   "id": "973b1042",
   "metadata": {},
   "outputs": [
    {
     "data": {
      "text/plain": [
       "2    458\n",
       "4    241\n",
       "Name: Class, dtype: int64"
      ]
     },
     "execution_count": 17,
     "metadata": {},
     "output_type": "execute_result"
    }
   ],
   "source": [
    "cell_df['Class'].value_counts()"
   ]
  },
  {
   "cell_type": "code",
   "execution_count": 18,
   "id": "af21540c",
   "metadata": {},
   "outputs": [],
   "source": [
    "#Distribution"
   ]
  },
  {
   "cell_type": "code",
   "execution_count": 25,
   "id": "967cc1d0",
   "metadata": {},
   "outputs": [
    {
     "data": {
      "text/plain": [
       "<Axes: xlabel='Clump', ylabel='UnifSize'>"
      ]
     },
     "execution_count": 25,
     "metadata": {},
     "output_type": "execute_result"
    },
    {
     "data": {
      "image/png": "[encoded data removed]",
      "text/plain": [
       "<Figure size 640x480 with 1 Axes>"
      ]
     },
     "metadata": {},
     "output_type": "display_data"
    }
   ],
   "source": [
    "#Here what we did is , we only asked for rows that has a class attribute of 4. And we displayed only first 200 rows.\n",
    "malignant_df=cell_df[cell_df['Class']==4][0:200]\n",
    "\n",
    "#Here what we did is , we only asked for rows that has a class attribute of 2. And we displayed only first 200 rows. \n",
    "benign_df=cell_df[cell_df['Class']==4][0:200]\n",
    "\n",
    "#malignant_df,benign_df are the name of classes.\n",
    "#help(benign_df,plot) - - > to seek help\n",
    "\n",
    "axes=benign_df.plot(kind='scatter',x='Clump',y='UnifSize',color='blue',label='Benign')\n",
    "malignant_df.plot(kind='scatter',x='Clump',y='UnifSize',color='red',label='Benign', ax=axes)\n",
    "\n",
    "#axes is the return we receive from teh previous command. ax is the parameter name.\n",
    "#if you remove ax=axes from malignant_df , both graphs would be plotted seperately.\n",
    "#labels means we are specifying the legends/labels we are specifying at the top right corner of the graph."
   ]
  },
  {
   "cell_type": "code",
   "execution_count": 26,
   "id": "899875d1",
   "metadata": {},
   "outputs": [
    {
     "data": {
      "text/plain": [
       "ID              int64\n",
       "Clump           int64\n",
       "UnifSize        int64\n",
       "UnifShape       int64\n",
       "MargAdh         int64\n",
       "SingEpiSize     int64\n",
       "BareNuc        object\n",
       "BlandChrom      int64\n",
       "NormNucl        int64\n",
       "Mit             int64\n",
       "Class           int64\n",
       "dtype: object"
      ]
     },
     "execution_count": 26,
     "metadata": {},
     "output_type": "execute_result"
    }
   ],
   "source": [
    "#identifying unwanted rows\n",
    "cell_df.dtypes"
   ]
  },
  {
   "cell_type": "code",
   "execution_count": 27,
   "id": "e9ef97cb",
   "metadata": {},
   "outputs": [
    {
     "data": {
      "text/plain": [
       "'Here, BareNuc has datatype is object. So, we cannot perform numeric operations onto it. For that, we need to \\n   perform some modification onto it. \\n   \\n   For all the rows where the values is non-numeric we have to choose we can do. We can put a mean value of that at\\n   that position where the value is missing or non-numeric. Or, we can find other suitable values and placing it \\n   there. Like; there is mean-max technique where you find the mean of the values and place it there. Oversampling\\n   etc.\\n\\n'"
      ]
     },
     "execution_count": 27,
     "metadata": {},
     "output_type": "execute_result"
    }
   ],
   "source": [
    "'''Here, BareNuc has datatype is object. So, we cannot perform numeric operations onto it. For that, we need to \n",
    "   perform some modification onto it. \n",
    "   \n",
    "   For all the rows where the values is non-numeric or missing we have to choose we can do. We can put a mean value of that at\n",
    "   that position where the value is missing or non-numeric. Or, we can find other suitable values and placing it \n",
    "   there. Like; there is mean-max technique where you find the mean of the values and place it there. or Oversampling\n",
    "   etc.\n",
    "\n",
    "'''"
   ]
  },
  {
   "cell_type": "code",
   "execution_count": 28,
   "id": "da6256e2",
   "metadata": {},
   "outputs": [],
   "source": [
    "#6. Identifying unwanted rows\n",
    "\n",
    "\"\"\"\n",
    "    Here if the values in a row are non-numeric, we will simply discard that row. It is upto you what to do.\n",
    "\"\"\""
   ]
  },
  {
   "cell_type": "code",
   "execution_count": 33,
   "id": "318715d5",
   "metadata": {},
   "outputs": [
    {
     "data": {
      "text/plain": [
       "ID             int64\n",
       "Clump          int64\n",
       "UnifSize       int64\n",
       "UnifShape      int64\n",
       "MargAdh        int64\n",
       "SingEpiSize    int64\n",
       "BareNuc        int64\n",
       "BlandChrom     int64\n",
       "NormNucl       int64\n",
       "Mit            int64\n",
       "Class          int64\n",
       "dtype: object"
      ]
     },
     "execution_count": 33,
     "metadata": {},
     "output_type": "execute_result"
    }
   ],
   "source": [
    "##converting the object data type to numeric datatype.\n",
    "pd.to_numeric(cell_df['BareNuc'],errors='coerce')\n",
    "\n",
    "##I would only choose those rows where it couldnot convert into numeric by calling another method called notnull.\n",
    "#It only picks up rows where the column value is available.\n",
    "\n",
    "cell_df=cell_df[pd.to_numeric(cell_df['BareNuc'],errors='coerce').notnull()]\n",
    "\n",
    "#this converts the BareNuc column to int.\n",
    "cell_df['BareNuc']=cell_df['BareNuc'].astype('int')\n",
    "cell_df.dtypes"
   ]
  },
  {
   "cell_type": "code",
   "execution_count": 34,
   "id": "e3ce0ad3",
   "metadata": {},
   "outputs": [
    {
     "data": {
      "text/plain": [
       "Index(['ID', 'Clump', 'UnifSize', 'UnifShape', 'MargAdh', 'SingEpiSize',\n",
       "       'BareNuc', 'BlandChrom', 'NormNucl', 'Mit', 'Class'],\n",
       "      dtype='object')"
      ]
     },
     "execution_count": 34,
     "metadata": {},
     "output_type": "execute_result"
    }
   ],
   "source": [
    "#Remove unwanted Columns\n",
    "cell_df.columns"
   ]
  },
  {
   "cell_type": "code",
   "execution_count": 39,
   "id": "a693adb9",
   "metadata": {},
   "outputs": [],
   "source": [
    "#We are trying to make a independent variable where the variables itself is a dataframe.\n",
    "#Here, we filter out 2 columns id and class.\n",
    "\n",
    "feature_df= cell_df[['Clump', 'UnifSize', 'UnifShape', 'MargAdh', 'SingEpiSize',\n",
    "       'BareNuc', 'BlandChrom', 'NormNucl', 'Mit',]]\n",
    "\n",
    "#We will now convert into numpy non-dimensional array. We are doing this to pass it as argument to our next function.\n",
    "#We can pass it as a dataframe also or numpy nd-array in test-train method.\n",
    "\n",
    "#cell_df 100 rows and 11 colums\n",
    "#picked 9 columns out of 11\n",
    "\n",
    "#independent variable\n",
    "x= np.asarray(feature_df)\n",
    "\n",
    "#dependent variable\n",
    "y=np.asarray(cell_df['Class'])\n",
    "\n"
   ]
  },
  {
   "cell_type": "code",
   "execution_count": 40,
   "id": "97cca29e",
   "metadata": {},
   "outputs": [
    {
     "data": {
      "text/plain": [
       "array([[ 5,  1,  1,  1,  2,  1,  3,  1,  1],\n",
       "       [ 5,  4,  4,  5,  7, 10,  3,  2,  1],\n",
       "       [ 3,  1,  1,  1,  2,  2,  3,  1,  1],\n",
       "       [ 6,  8,  8,  1,  3,  4,  3,  7,  1],\n",
       "       [ 4,  1,  1,  3,  2,  1,  3,  1,  1]])"
      ]
     },
     "execution_count": 40,
     "metadata": {},
     "output_type": "execute_result"
    }
   ],
   "source": [
    "x[0:5]  #printing first 5 elements.\n",
    "#here, it is showing the first 5 elements where each element itself is an array."
   ]
  },
  {
   "cell_type": "code",
   "execution_count": 41,
   "id": "2bdd2667",
   "metadata": {},
   "outputs": [
    {
     "data": {
      "text/plain": [
       "'\\ncell_df - - > Train/Test\\nTrain and Test have 2 components x and y respectively. Here, x itself is a 2D array and y is 1D array.\\nTrain(x,y)\\nTest(x,y)\\n'"
      ]
     },
     "execution_count": 41,
     "metadata": {},
     "output_type": "execute_result"
    }
   ],
   "source": [
    "#8 Dividing the entire data as training part and testing part.\n",
    "\n",
    "'''\n",
    "cell_df (100 rows) - - > Train(80 rows)/Test(20 rows) \n",
    "Train and Test have 2 components x and y respectively. Here, x itself is a 2D array and y is 1D array.\n",
    "x is the column with independent variable and y is the column we are going to predict.\n",
    "Train(x,y)\n",
    "Test(x,y)\n",
    "'''\n"
   ]
  },
  {
   "cell_type": "code",
   "execution_count": 55,
   "id": "48acd60f",
   "metadata": {},
   "outputs": [],
   "source": [
    "#This method is available in sklearn.model_selection import train_test_split\n",
    "from sklearn.model_selection import train_test_split\n",
    "\n",
    "#random_state accepts values as seed values. Seed values are the values used to generate other random numbers.\n",
    "#Those random generated by this seed value would be used to identify which all rows has to be chosen to palce them\n",
    "#as a part of training set/data and rest will be considered as test data.\n",
    "#test_sixe indicates the amount of data that should be use for testing. In this case we use 0.2 (20%) for testing \n",
    "#and 80& for training.\n",
    "#We set the random_state for reproducibility. By inserting random_state , the random splitiing of this data will be consistent resulting in consistency in results.\n",
    "X_train,X_test,y_train,y_test=train_test_split(x,y,test_size=0.2, random_state=4)"
   ]
  },
  {
   "cell_type": "code",
   "execution_count": 57,
   "id": "f6f425ff",
   "metadata": {},
   "outputs": [
    {
     "data": {
      "text/plain": [
       "(137,)"
      ]
     },
     "execution_count": 57,
     "metadata": {},
     "output_type": "execute_result"
    }
   ],
   "source": [
    "#They are asigned values X_train,X_test,y_train,y_test for the 4 arrays they give.\n",
    "X_train.shape\n",
    "y_train.shape\n",
    "X_test.shape\n",
    "y_test.shape"
   ]
  },
  {
   "cell_type": "code",
   "execution_count": 58,
   "id": "a99ccf96",
   "metadata": {},
   "outputs": [],
   "source": [
    "#9 Modelling(SVM=scikit-learn)\n",
    "'''\n",
    "Modelling is done by using SVM . It is imported by using scikit package. \n",
    "\n",
    "'''\n",
    "from sklearn import svm"
   ]
  },
  {
   "cell_type": "code",
   "execution_count": 59,
   "id": "5c6f5699",
   "metadata": {},
   "outputs": [
    {
     "data": {
      "text/plain": [
       "\"SVM package has multiple methods. One of them is SVC (support vector classifer).\\nSupport vector classifiers refers to the data points near to the hyperplane whose distance perpendicular to the\\nhyperplane . If we sum all the points near the hyperplane and if that sum is maximum respective to other datapoints, \\nsuch data points would be called as support vectors or support vector classifiers.\\n\\nkernel is used for converting low dimensional feature space into high dimensional feature space. The mathematical \\nfunction used for the transformation as called functions. The different types are:\\n\\n1.linear\\n2.Polynomial\\n3.Radial Basis Function (RBF)\\n4.Sigmoid\\n\\nEach of these functions have its charactersitics, its pros and cons, and its equation, but as there's not easy way \\nof knowing which function performs the best with any dataset, we usually choose different functions in turn and \\ncompare results. lets just use the default, RBF (Radial Basis Function) for this instance.\\n\\n\\n\""
      ]
     },
     "execution_count": 59,
     "metadata": {},
     "output_type": "execute_result"
    }
   ],
   "source": [
    "'''SVM package has multiple methods. One of them is SVC (support vector classifer).\n",
    "Support vector classifiers refers to the data points near to the hyperplane whose distance perpendicular to the\n",
    "hyperplane . If we sum all the points near the hyperplane and if that sum is maximum respective to other datapoints, \n",
    "such data points would be called as support vectors or support vector classifiers.\n",
    "\n",
    "kernel is used for converting low dimensional feature space into high dimensional feature space. The mathematical \n",
    "function used for the transformation as called functions. The different types are:\n",
    "\n",
    "1.linear\n",
    "2.Polynomial\n",
    "3.Radial Basis Function (RBF)\n",
    "4.Sigmoid\n",
    "\n",
    "Each of these functions have its charactersitics, its pros and cons, and its equation, but as there's not easy way \n",
    "of knowing which function performs the best with any dataset, we usually choose different functions in turn and \n",
    "compare results. lets just use the default, RBF (Radial Basis Function) for this instance.\n",
    "\n",
    "\n",
    "'''\n"
   ]
  },
  {
   "cell_type": "code",
   "execution_count": 65,
   "id": "b7aa46ff",
   "metadata": {},
   "outputs": [
    {
     "data": {
      "text/html": [
       "<style>#sk-container-id-3 {color: black;}#sk-container-id-3 pre{padding: 0;}#sk-container-id-3 div.sk-toggleable {background-color: white;}#sk-container-id-3 label.sk-toggleable__label {cursor: pointer;display: block;width: 100%;margin-bottom: 0;padding: 0.3em;box-sizing: border-box;text-align: center;}#sk-container-id-3 label.sk-toggleable__label-arrow:before {content: \"▸\";float: left;margin-right: 0.25em;color: #696969;}#sk-container-id-3 label.sk-toggleable__label-arrow:hover:before {color: black;}#sk-container-id-3 div.sk-estimator:hover label.sk-toggleable__label-arrow:before {color: black;}#sk-container-id-3 div.sk-toggleable__content {max-height: 0;max-width: 0;overflow: hidden;text-align: left;background-color: #f0f8ff;}#sk-container-id-3 div.sk-toggleable__content pre {margin: 0.2em;color: black;border-radius: 0.25em;background-color: #f0f8ff;}#sk-container-id-3 input.sk-toggleable__control:checked~div.sk-toggleable__content {max-height: 200px;max-width: 100%;overflow: auto;}#sk-container-id-3 input.sk-toggleable__control:checked~label.sk-toggleable__label-arrow:before {content: \"▾\";}#sk-container-id-3 div.sk-estimator input.sk-toggleable__control:checked~label.sk-toggleable__label {background-color: #d4ebff;}#sk-container-id-3 div.sk-label input.sk-toggleable__control:checked~label.sk-toggleable__label {background-color: #d4ebff;}#sk-container-id-3 input.sk-hidden--visually {border: 0;clip: rect(1px 1px 1px 1px);clip: rect(1px, 1px, 1px, 1px);height: 1px;margin: -1px;overflow: hidden;padding: 0;position: absolute;width: 1px;}#sk-container-id-3 div.sk-estimator {font-family: monospace;background-color: #f0f8ff;border: 1px dotted black;border-radius: 0.25em;box-sizing: border-box;margin-bottom: 0.5em;}#sk-container-id-3 div.sk-estimator:hover {background-color: #d4ebff;}#sk-container-id-3 div.sk-parallel-item::after {content: \"\";width: 100%;border-bottom: 1px solid gray;flex-grow: 1;}#sk-container-id-3 div.sk-label:hover label.sk-toggleable__label {background-color: #d4ebff;}#sk-container-id-3 div.sk-serial::before {content: \"\";position: absolute;border-left: 1px solid gray;box-sizing: border-box;top: 0;bottom: 0;left: 50%;z-index: 0;}#sk-container-id-3 div.sk-serial {display: flex;flex-direction: column;align-items: center;background-color: white;padding-right: 0.2em;padding-left: 0.2em;position: relative;}#sk-container-id-3 div.sk-item {position: relative;z-index: 1;}#sk-container-id-3 div.sk-parallel {display: flex;align-items: stretch;justify-content: center;background-color: white;position: relative;}#sk-container-id-3 div.sk-item::before, #sk-container-id-3 div.sk-parallel-item::before {content: \"\";position: absolute;border-left: 1px solid gray;box-sizing: border-box;top: 0;bottom: 0;left: 50%;z-index: -1;}#sk-container-id-3 div.sk-parallel-item {display: flex;flex-direction: column;z-index: 1;position: relative;background-color: white;}#sk-container-id-3 div.sk-parallel-item:first-child::after {align-self: flex-end;width: 50%;}#sk-container-id-3 div.sk-parallel-item:last-child::after {align-self: flex-start;width: 50%;}#sk-container-id-3 div.sk-parallel-item:only-child::after {width: 0;}#sk-container-id-3 div.sk-dashed-wrapped {border: 1px dashed gray;margin: 0 0.4em 0.5em 0.4em;box-sizing: border-box;padding-bottom: 0.4em;background-color: white;}#sk-container-id-3 div.sk-label label {font-family: monospace;font-weight: bold;display: inline-block;line-height: 1.2em;}#sk-container-id-3 div.sk-label-container {text-align: center;}#sk-container-id-3 div.sk-container {/* jupyter's `normalize.less` sets `[hidden] { display: none; }` but bootstrap.min.css set `[hidden] { display: none !important; }` so we also need the `!important` here to be able to override the default hidden behavior on the sphinx rendered scikit-learn.org. See: https://github.com/scikit-learn/scikit-learn/issues/21755 */display: inline-block !important;position: relative;}#sk-container-id-3 div.sk-text-repr-fallback {display: none;}</style><div id=\"sk-container-id-3\" class=\"sk-top-container\"><div class=\"sk-text-repr-fallback\"><pre>SVC(C=2, gamma=&#x27;auto&#x27;, kernel=&#x27;linear&#x27;)</pre><b>In a Jupyter environment, please rerun this cell to show the HTML representation or trust the notebook. <br />On GitHub, the HTML representation is unable to render, please try loading this page with nbviewer.org.</b></div><div class=\"sk-container\" hidden><div class=\"sk-item\"><div class=\"sk-estimator sk-toggleable\"><input class=\"sk-toggleable__control sk-hidden--visually\" id=\"sk-estimator-id-3\" type=\"checkbox\" checked><label for=\"sk-estimator-id-3\" class=\"sk-toggleable__label sk-toggleable__label-arrow\">SVC</label><div class=\"sk-toggleable__content\"><pre>SVC(C=2, gamma=&#x27;auto&#x27;, kernel=&#x27;linear&#x27;)</pre></div></div></div></div></div>"
      ],
      "text/plain": [
       "SVC(C=2, gamma='auto', kernel='linear')"
      ]
     },
     "execution_count": 65,
     "metadata": {},
     "output_type": "execute_result"
    }
   ],
   "source": [
    "#\n",
    "'''C denotes the penalty we want to impose on the incorrectly placed datapoints wrt new hyperplane. If a object should \n",
    "placed in class A but is placed in class B then it is incorrectly placed according to the hyperplane. Such incorrect\n",
    "datapoints would impose penalty called C. If we place C=2, then it means we imposed 2 units of penalty on such datapoints.\n",
    "'''\n",
    "classifier= svm.SVC(kernel='linear', gamma='auto',C=2)\n",
    "\n",
    "'''\n",
    ".fit . Based on patterns of data along X and Y, it prepares a model. We take capital X as it represents 2D data and y represents 1D data.\n",
    "'''\n",
    "classifier.fit(X_train,y_train)"
   ]
  },
  {
   "cell_type": "code",
   "execution_count": 62,
   "id": "5ba1805f",
   "metadata": {},
   "outputs": [],
   "source": [
    "#The SVM model is build with all the respective values."
   ]
  },
  {
   "cell_type": "code",
   "execution_count": 69,
   "id": "386e3f6b",
   "metadata": {},
   "outputs": [],
   "source": [
    "y_predict=classifier.predict(X_test)\n",
    "\"\"\"\n",
    "y_predict denotes the actual values of classes of each of the record available in X_test and y_test is the classes\n",
    "predicted by our system.\n",
    "\"\"\""
   ]
  },
  {
   "cell_type": "code",
   "execution_count": 74,
   "id": "7cf3c671",
   "metadata": {},
   "outputs": [
    {
     "name": "stdout",
     "output_type": "stream",
     "text": [
      "              precision    recall  f1-score   support\n",
      "\n",
      "           2       1.00      0.94      0.97        90\n",
      "           4       0.90      1.00      0.95        47\n",
      "\n",
      "    accuracy                           0.96       137\n",
      "   macro avg       0.95      0.97      0.96       137\n",
      "weighted avg       0.97      0.96      0.96       137\n",
      "\n"
     ]
    }
   ],
   "source": [
    "#10 Evaluation\n",
    "''' \n",
    "There many in-built functions for evaluation. These is a function called classification_report to know how good\n",
    "the classifier is. We insert X-test ; the actual values and y-test; the predicted values.\n",
    "There is a package called sklearn.metrics for importing such packages.\n",
    "'''\n",
    "\n",
    "from sklearn.metrics import classification_report\n",
    "print(classification_report(y_test,y_predict))"
   ]
  },
  {
   "cell_type": "code",
   "execution_count": null,
   "id": "4c3ae2d3",
   "metadata": {},
   "outputs": [],
   "source": [
    "\"\"\"\n",
    "It says the precision is 100% for one class and is 90% for the other class. (true prediction/false prediction)\n",
    "We understand using a confusion matrix.\n",
    "In confusion matrix, out of all the positive we calculate all the true positive values and false positive values.\n",
    "\n",
    "F1-score is the harmonical mean of precision vs recall.\n",
    "\n",
    "F1= 2 x Precision * Recall\n",
    "        ------------------\n",
    "        Precision + Recall\n",
    "        \n",
    "Support:\n",
    "It means how many instances of class 2(-ve) and class 4(+ve) were there.\n",
    "\"\"\""
   ]
  }
 ],
 "metadata": {
  "kernelspec": {
   "display_name": "Python 3 (ipykernel)",
   "language": "python",
   "name": "python3"
  },
  "language_info": {
   "codemirror_mode": {
    "name": "ipython",
    "version": 3
   },
   "file_extension": ".py",
   "mimetype": "text/x-python",
   "name": "python",
   "nbconvert_exporter": "python",
   "pygments_lexer": "ipython3",
   "version": "3.11.4"
  }
 },
 "nbformat": 4,
 "nbformat_minor": 5
}
